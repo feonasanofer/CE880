{
  "cells": [
    {
      "cell_type": "markdown",
      "metadata": {
        "id": "view-in-github",
        "colab_type": "text"
      },
      "source": [
        "<a href=\"https://colab.research.google.com/github/feonasanofer/CE880/blob/main/week2/problem1.ipynb\" target=\"_parent\"><img src=\"https://colab.research.google.com/assets/colab-badge.svg\" alt=\"Open In Colab\"/></a>"
      ]
    },
    {
      "cell_type": "markdown",
      "metadata": {
        "id": "NKcjAfvQ6X2n"
      },
      "source": [
        "Before you turn this problem in, make sure everything runs as expected. First, **restart the kernel** (in the menubar, select Kernel$\\rightarrow$Restart) and then **run all cells** (in the menubar, select Cell$\\rightarrow$Run All).\n",
        "\n",
        "Make sure you fill in any place that says `YOUR CODE HERE` or \"YOUR ANSWER HERE\", as well as your name and collaborators below:"
      ]
    },
    {
      "cell_type": "code",
      "execution_count": 1,
      "metadata": {
        "id": "wRxJh0RV6X2p"
      },
      "outputs": [],
      "source": [
        "NAME = \"Feona Sanofer Dhason\"\n",
        "COLLABORATORS = \"2111097\""
      ]
    },
    {
      "cell_type": "markdown",
      "metadata": {
        "id": "d4KaPzN_6X2r"
      },
      "source": [
        "---"
      ]
    },
    {
      "cell_type": "markdown",
      "metadata": {
        "id": "UaSSZwpa6X2r"
      },
      "source": [
        "---\n",
        "# Welcome to CE880\n",
        "### This is your week-2 : Problem 1 notebook\n",
        "\n",
        "For this problem set, we'll be using the Jupyter notebook and please upload this notebook to [Google Colab](https://colab.research.google.com/). \n"
      ]
    },
    {
      "cell_type": "markdown",
      "metadata": {
        "id": "tV70hucK6X2r"
      },
      "source": [
        "---\n",
        "## Question 1:\n",
        "\n",
        "Write a function to pass a list of numbers and return log2 of the array. \n",
        "`Hint`: take input as list and inside the function covert it into numpy array then perform the function. `Example` : input `[1, 4, 8]` and and output should be:  `[0, 2, 3]` "
      ]
    },
    {
      "cell_type": "code",
      "execution_count": 2,
      "metadata": {
        "deletable": false,
        "nbgrader": {
          "cell_type": "code",
          "checksum": "03985fd3466b126f93d3e2de75ca8065",
          "grade": false,
          "grade_id": "myLog_ans",
          "locked": false,
          "schema_version": 3,
          "solution": true
        },
        "id": "OgyWysL_6X2s"
      },
      "outputs": [],
      "source": [
        "from IPython.core.display import Math\n",
        "import numpy as np\n",
        "def myLog(mylist):\n",
        "    \"\"\"Write a function to pass a list of numbers and return log2 of the array. \"\"\"\n",
        "    \n",
        "    return np.log2(mylist)\n",
        "    raise NotImplementedError()"
      ]
    },
    {
      "cell_type": "code",
      "execution_count": 3,
      "metadata": {
        "colab": {
          "base_uri": "https://localhost:8080/"
        },
        "id": "YhhTGJ7K6X2s",
        "outputId": "ffce3922-3e34-47e4-d274-e535dd7da3ec"
      },
      "outputs": [
        {
          "output_type": "execute_result",
          "data": {
            "text/plain": [
              "array([0., 2., 3.])"
            ]
          },
          "metadata": {},
          "execution_count": 3
        }
      ],
      "source": [
        "in_array = [1, 4, 8]\n",
        "myLog(in_array)"
      ]
    },
    {
      "cell_type": "code",
      "execution_count": 4,
      "metadata": {
        "deletable": false,
        "editable": false,
        "nbgrader": {
          "cell_type": "code",
          "checksum": "f94cdfb233d60b997688684a67f5027f",
          "grade": true,
          "grade_id": "myLog_test",
          "locked": false,
          "points": 1,
          "schema_version": 3,
          "solution": false
        },
        "colab": {
          "base_uri": "https://localhost:8080/"
        },
        "id": "CtDiqzxg6X2s",
        "outputId": "1f2bd199-a6db-40c5-b663-e225eae073ec"
      },
      "outputs": [
        {
          "output_type": "execute_result",
          "data": {
            "text/plain": [
              "True"
            ]
          },
          "metadata": {},
          "execution_count": 4
        }
      ],
      "source": [
        "\"\"\"Check your output\"\"\"\n",
        "# Test case 1\n",
        "in_array = [1, 3, 5, 10**8]\n",
        "mynplist = np.array([0, 1.5849625, 2.32192809 , 26.57542476])\n",
        "np.allclose(myLog(in_array), mynplist)\n",
        "\n",
        "# Test case 2\n",
        "in_array = in_array = [1, 100, 1000]\n",
        "mynplist = np.array([0., 6.64385619, 9.96578428])\n",
        "np.allclose(myLog(in_array), mynplist)"
      ]
    },
    {
      "cell_type": "markdown",
      "metadata": {
        "id": "ie3G3UjQ6X2t"
      },
      "source": [
        "---\n",
        "\n",
        "## Question 2:\n",
        "\n",
        "The Fibonacci numbers are the numbers in the following integer sequence.\n",
        "`[0, 1, 1, 2, 3, 5, 8, 13, 21, 34, 55, 89, 144, ...]`\n",
        "In mathematical terms, the sequence $F_n$ of Fibonacci numbers is defined by the recurrence relation \n",
        "$$\n",
        "F_n = F_n-1 + F_n-2\n",
        "$$\n",
        "with seed values  \n",
        "$$\n",
        " F_0 = 0 \\& F_1 = 1.\n",
        "$$\n",
        "Your task here is to write a code for printing $n^{th}$ Fibonacci number\n",
        "`Example`: Input: `myfibonacci(9)` and Output should be `34`"
      ]
    },
    {
      "cell_type": "code",
      "execution_count": 5,
      "metadata": {
        "deletable": false,
        "nbgrader": {
          "cell_type": "code",
          "checksum": "f133cbe1fe662f2a7a1a9e535f2e6f98",
          "grade": false,
          "grade_id": "myfibonacci_ans",
          "locked": false,
          "schema_version": 3,
          "solution": true
        },
        "id": "Gbe5D2Qw6X2t"
      },
      "outputs": [],
      "source": [
        "def myfibonacci(n):\n",
        "    \"\"\"Function for nth Fibonacci number\"\"\"\n",
        "    \n",
        "    if (n <= 0) : \n",
        "        return 0\n",
        "    \n",
        "    fib = [0] *(n+1)\n",
        "\n",
        "    if (n ==1):\n",
        "      return 1  \n",
        "    fib[1] = 1\n",
        "    \n",
        "    # Add remaining terms \n",
        "    for j in range(2,n+1) : \n",
        "        fib[j] = fib[j-1] + fib[j-2]  \n",
        "           \n",
        "    return fib[j]\n",
        "        \n",
        "    raise NotImplementedError()"
      ]
    },
    {
      "cell_type": "code",
      "execution_count": 6,
      "metadata": {
        "colab": {
          "base_uri": "https://localhost:8080/"
        },
        "id": "gHPIAACW6X2t",
        "outputId": "1381183d-0d2e-4ec7-a788-1a428a6bfabb"
      },
      "outputs": [
        {
          "output_type": "execute_result",
          "data": {
            "text/plain": [
              "34"
            ]
          },
          "metadata": {},
          "execution_count": 6
        }
      ],
      "source": [
        "myfibonacci(9)"
      ]
    },
    {
      "cell_type": "code",
      "execution_count": 7,
      "metadata": {
        "deletable": false,
        "editable": false,
        "nbgrader": {
          "cell_type": "code",
          "checksum": "f0bc0bbe751480b5be043942d1cf6541",
          "grade": true,
          "grade_id": "myfibonacci_test",
          "locked": false,
          "points": 1,
          "schema_version": 3,
          "solution": false
        },
        "id": "_8I620_v6X2t"
      },
      "outputs": [],
      "source": [
        "\"\"\"Check that correct fibonacci number\"\"\"\n",
        "assert myfibonacci(9) == 34\n",
        "assert myfibonacci(7) == 13\n",
        "assert myfibonacci(1) == 1\n",
        "assert myfibonacci(0) == 0"
      ]
    },
    {
      "cell_type": "markdown",
      "metadata": {
        "id": "MKYg571D6X2u"
      },
      "source": [
        "---\n",
        "## Question 3: \n",
        "\n",
        " Write a program, which accept 2D array with `nan` and replace all `nan` with `-5`.  "
      ]
    },
    {
      "cell_type": "code",
      "execution_count": 8,
      "metadata": {
        "deletable": false,
        "nbgrader": {
          "cell_type": "code",
          "checksum": "ff801e0967df688b2d8d7a4d4d0c72e3",
          "grade": false,
          "grade_id": "rem_Nan_ans",
          "locked": false,
          "schema_version": 3,
          "solution": true,
          "task": false
        },
        "id": "JekwVTec6X2u"
      },
      "outputs": [],
      "source": [
        "import numpy as no\n",
        "def rem_Nan(A):\n",
        "    \"\"\"Write a program, which accept 2D array with nan and replace all nan with -10\"\"\"\n",
        "    \n",
        "\n",
        "    out=np.where(np.isnan(A),-5,A)\n",
        "    return out \n",
        "    raise NotImplementedError()"
      ]
    },
    {
      "cell_type": "code",
      "execution_count": 9,
      "metadata": {
        "id": "tZjErxSD6X2u"
      },
      "outputs": [],
      "source": [
        "arr1 = np.array([[1,2,3],[3,np.nan,3]])\n",
        "arr2 = np.array([[1,2,3],[3,-5,3]])\n",
        "\n",
        "assert np.allclose(rem_Nan(arr1), arr2)"
      ]
    },
    {
      "cell_type": "code",
      "execution_count": 10,
      "metadata": {
        "deletable": false,
        "editable": false,
        "nbgrader": {
          "cell_type": "code",
          "checksum": "c4a8685c52c312a9724805329e1109c0",
          "grade": true,
          "grade_id": "rem_Nan_test",
          "locked": true,
          "points": 1,
          "schema_version": 3,
          "solution": false,
          "task": false
        },
        "id": "HhK8RHHZ6X2u"
      },
      "outputs": [],
      "source": [
        "\"\"\"Check your output\"\"\"\n",
        "# Test Case 1\n",
        "arr1 = np.array([[1,5,3],[3,np.nan,3]])\n",
        "arr2 = np.array([[1,5,3],[3,-5,3]])\n",
        "assert np.allclose(rem_Nan(arr1), arr2)\n",
        "\n",
        "# Test Case 2\n",
        "arr3 = np.array([[np.nan,2,np.nan],[3,np.nan,3]])\n",
        "arr4 = np.array([[-5,2,-5],[3,-5,3]])\n",
        "assert np.allclose(rem_Nan(arr3), arr4)"
      ]
    },
    {
      "cell_type": "markdown",
      "metadata": {
        "id": "HS6lPO3s6X2u"
      },
      "source": [
        "## Pandas Data Frame \n"
      ]
    },
    {
      "cell_type": "code",
      "execution_count": 11,
      "metadata": {
        "colab": {
          "base_uri": "https://localhost:8080/"
        },
        "id": "K-IW-4Lo6X2v",
        "outputId": "528f939b-4991-4b3a-feeb-3b6f9ec63657"
      },
      "outputs": [
        {
          "output_type": "stream",
          "name": "stdout",
          "text": [
            "Requirement already satisfied: pandas in /usr/local/lib/python3.7/dist-packages (1.3.5)\n",
            "Requirement already satisfied: python-dateutil>=2.7.3 in /usr/local/lib/python3.7/dist-packages (from pandas) (2.8.2)\n",
            "Requirement already satisfied: numpy>=1.17.3 in /usr/local/lib/python3.7/dist-packages (from pandas) (1.21.5)\n",
            "Requirement already satisfied: pytz>=2017.3 in /usr/local/lib/python3.7/dist-packages (from pandas) (2018.9)\n",
            "Requirement already satisfied: six>=1.5 in /usr/local/lib/python3.7/dist-packages (from python-dateutil>=2.7.3->pandas) (1.15.0)\n"
          ]
        }
      ],
      "source": [
        "# Please make sure if pandas is installed and if not then run the this cell otherwise skip\n",
        "!pip install pandas"
      ]
    },
    {
      "cell_type": "markdown",
      "metadata": {
        "id": "C5onRe0s6X2v"
      },
      "source": [
        "#### Let's create a Toy Data for rest of the 3 questions"
      ]
    },
    {
      "cell_type": "code",
      "execution_count": 12,
      "metadata": {
        "colab": {
          "base_uri": "https://localhost:8080/",
          "height": 363
        },
        "id": "-CsE8zuE6X2v",
        "outputId": "903a3d50-b88e-46dc-8038-b3fc41a7dede"
      },
      "outputs": [
        {
          "output_type": "execute_result",
          "data": {
            "text/plain": [
              "     name  score  attempts qualify\n",
              "a    Adam   72.5         1     yes\n",
              "b      Jo   59.0         3      no\n",
              "c    Jack   66.5         2     yes\n",
              "d    Hugo    NaN         3      no\n",
              "e    Amit   59.0         2      no\n",
              "f   Messi   80.0         3     yes\n",
              "g  Jordan   84.5         1     yes\n",
              "h   Laura    NaN         1      no\n",
              "i   Kevin   82.0         2      no\n",
              "j   Jonas   49.0         1     yes"
            ],
            "text/html": [
              "\n",
              "  <div id=\"df-49a8977c-4b81-4c2b-9e2a-34a9edea3202\">\n",
              "    <div class=\"colab-df-container\">\n",
              "      <div>\n",
              "<style scoped>\n",
              "    .dataframe tbody tr th:only-of-type {\n",
              "        vertical-align: middle;\n",
              "    }\n",
              "\n",
              "    .dataframe tbody tr th {\n",
              "        vertical-align: top;\n",
              "    }\n",
              "\n",
              "    .dataframe thead th {\n",
              "        text-align: right;\n",
              "    }\n",
              "</style>\n",
              "<table border=\"1\" class=\"dataframe\">\n",
              "  <thead>\n",
              "    <tr style=\"text-align: right;\">\n",
              "      <th></th>\n",
              "      <th>name</th>\n",
              "      <th>score</th>\n",
              "      <th>attempts</th>\n",
              "      <th>qualify</th>\n",
              "    </tr>\n",
              "  </thead>\n",
              "  <tbody>\n",
              "    <tr>\n",
              "      <th>a</th>\n",
              "      <td>Adam</td>\n",
              "      <td>72.5</td>\n",
              "      <td>1</td>\n",
              "      <td>yes</td>\n",
              "    </tr>\n",
              "    <tr>\n",
              "      <th>b</th>\n",
              "      <td>Jo</td>\n",
              "      <td>59.0</td>\n",
              "      <td>3</td>\n",
              "      <td>no</td>\n",
              "    </tr>\n",
              "    <tr>\n",
              "      <th>c</th>\n",
              "      <td>Jack</td>\n",
              "      <td>66.5</td>\n",
              "      <td>2</td>\n",
              "      <td>yes</td>\n",
              "    </tr>\n",
              "    <tr>\n",
              "      <th>d</th>\n",
              "      <td>Hugo</td>\n",
              "      <td>NaN</td>\n",
              "      <td>3</td>\n",
              "      <td>no</td>\n",
              "    </tr>\n",
              "    <tr>\n",
              "      <th>e</th>\n",
              "      <td>Amit</td>\n",
              "      <td>59.0</td>\n",
              "      <td>2</td>\n",
              "      <td>no</td>\n",
              "    </tr>\n",
              "    <tr>\n",
              "      <th>f</th>\n",
              "      <td>Messi</td>\n",
              "      <td>80.0</td>\n",
              "      <td>3</td>\n",
              "      <td>yes</td>\n",
              "    </tr>\n",
              "    <tr>\n",
              "      <th>g</th>\n",
              "      <td>Jordan</td>\n",
              "      <td>84.5</td>\n",
              "      <td>1</td>\n",
              "      <td>yes</td>\n",
              "    </tr>\n",
              "    <tr>\n",
              "      <th>h</th>\n",
              "      <td>Laura</td>\n",
              "      <td>NaN</td>\n",
              "      <td>1</td>\n",
              "      <td>no</td>\n",
              "    </tr>\n",
              "    <tr>\n",
              "      <th>i</th>\n",
              "      <td>Kevin</td>\n",
              "      <td>82.0</td>\n",
              "      <td>2</td>\n",
              "      <td>no</td>\n",
              "    </tr>\n",
              "    <tr>\n",
              "      <th>j</th>\n",
              "      <td>Jonas</td>\n",
              "      <td>49.0</td>\n",
              "      <td>1</td>\n",
              "      <td>yes</td>\n",
              "    </tr>\n",
              "  </tbody>\n",
              "</table>\n",
              "</div>\n",
              "      <button class=\"colab-df-convert\" onclick=\"convertToInteractive('df-49a8977c-4b81-4c2b-9e2a-34a9edea3202')\"\n",
              "              title=\"Convert this dataframe to an interactive table.\"\n",
              "              style=\"display:none;\">\n",
              "        \n",
              "  <svg xmlns=\"http://www.w3.org/2000/svg\" height=\"24px\"viewBox=\"0 0 24 24\"\n",
              "       width=\"24px\">\n",
              "    <path d=\"M0 0h24v24H0V0z\" fill=\"none\"/>\n",
              "    <path d=\"M18.56 5.44l.94 2.06.94-2.06 2.06-.94-2.06-.94-.94-2.06-.94 2.06-2.06.94zm-11 1L8.5 8.5l.94-2.06 2.06-.94-2.06-.94L8.5 2.5l-.94 2.06-2.06.94zm10 10l.94 2.06.94-2.06 2.06-.94-2.06-.94-.94-2.06-.94 2.06-2.06.94z\"/><path d=\"M17.41 7.96l-1.37-1.37c-.4-.4-.92-.59-1.43-.59-.52 0-1.04.2-1.43.59L10.3 9.45l-7.72 7.72c-.78.78-.78 2.05 0 2.83L4 21.41c.39.39.9.59 1.41.59.51 0 1.02-.2 1.41-.59l7.78-7.78 2.81-2.81c.8-.78.8-2.07 0-2.86zM5.41 20L4 18.59l7.72-7.72 1.47 1.35L5.41 20z\"/>\n",
              "  </svg>\n",
              "      </button>\n",
              "      \n",
              "  <style>\n",
              "    .colab-df-container {\n",
              "      display:flex;\n",
              "      flex-wrap:wrap;\n",
              "      gap: 12px;\n",
              "    }\n",
              "\n",
              "    .colab-df-convert {\n",
              "      background-color: #E8F0FE;\n",
              "      border: none;\n",
              "      border-radius: 50%;\n",
              "      cursor: pointer;\n",
              "      display: none;\n",
              "      fill: #1967D2;\n",
              "      height: 32px;\n",
              "      padding: 0 0 0 0;\n",
              "      width: 32px;\n",
              "    }\n",
              "\n",
              "    .colab-df-convert:hover {\n",
              "      background-color: #E2EBFA;\n",
              "      box-shadow: 0px 1px 2px rgba(60, 64, 67, 0.3), 0px 1px 3px 1px rgba(60, 64, 67, 0.15);\n",
              "      fill: #174EA6;\n",
              "    }\n",
              "\n",
              "    [theme=dark] .colab-df-convert {\n",
              "      background-color: #3B4455;\n",
              "      fill: #D2E3FC;\n",
              "    }\n",
              "\n",
              "    [theme=dark] .colab-df-convert:hover {\n",
              "      background-color: #434B5C;\n",
              "      box-shadow: 0px 1px 3px 1px rgba(0, 0, 0, 0.15);\n",
              "      filter: drop-shadow(0px 1px 2px rgba(0, 0, 0, 0.3));\n",
              "      fill: #FFFFFF;\n",
              "    }\n",
              "  </style>\n",
              "\n",
              "      <script>\n",
              "        const buttonEl =\n",
              "          document.querySelector('#df-49a8977c-4b81-4c2b-9e2a-34a9edea3202 button.colab-df-convert');\n",
              "        buttonEl.style.display =\n",
              "          google.colab.kernel.accessAllowed ? 'block' : 'none';\n",
              "\n",
              "        async function convertToInteractive(key) {\n",
              "          const element = document.querySelector('#df-49a8977c-4b81-4c2b-9e2a-34a9edea3202');\n",
              "          const dataTable =\n",
              "            await google.colab.kernel.invokeFunction('convertToInteractive',\n",
              "                                                     [key], {});\n",
              "          if (!dataTable) return;\n",
              "\n",
              "          const docLinkHtml = 'Like what you see? Visit the ' +\n",
              "            '<a target=\"_blank\" href=https://colab.research.google.com/notebooks/data_table.ipynb>data table notebook</a>'\n",
              "            + ' to learn more about interactive tables.';\n",
              "          element.innerHTML = '';\n",
              "          dataTable['output_type'] = 'display_data';\n",
              "          await google.colab.output.renderOutput(dataTable, element);\n",
              "          const docLink = document.createElement('div');\n",
              "          docLink.innerHTML = docLinkHtml;\n",
              "          element.appendChild(docLink);\n",
              "        }\n",
              "      </script>\n",
              "    </div>\n",
              "  </div>\n",
              "  "
            ]
          },
          "metadata": {},
          "execution_count": 12
        }
      ],
      "source": [
        "import numpy as np\n",
        "import pandas as pd\n",
        "exam_data  = {'name': ['Adam', 'Jo', 'Jack', 'Hugo', 'Amit', 'Messi', 'Jordan', 'Laura', 'Kevin', 'Jonas'],\n",
        "        'score': [72.5, 59, 66.5, np.nan, 59, 80, 84.5, np.nan, 82, 49],\n",
        "        'attempts': [1, 3, 2, 3, 2, 3, 1, 1, 2, 1],\n",
        "        'qualify': ['yes', 'no', 'yes', 'no', 'no', 'yes', 'yes', 'no', 'no', 'yes']}\n",
        "labels = ['a', 'b', 'c', 'd', 'e', 'f', 'g', 'h', 'i', 'j']\n",
        "df = pd.DataFrame(exam_data , index=labels)\n",
        "df"
      ]
    },
    {
      "cell_type": "markdown",
      "metadata": {
        "id": "KcIKpR2R6X2v"
      },
      "source": [
        "---\n",
        "## Question 4:\n",
        "\n",
        "Write a Pandas program to display students names, where number of attempts in the examination is greater than 2 and score less than 80."
      ]
    },
    {
      "cell_type": "code",
      "execution_count": 13,
      "metadata": {
        "deletable": false,
        "nbgrader": {
          "cell_type": "code",
          "checksum": "9b28c77b558ad9f5336dedeaf918a99c",
          "grade": false,
          "grade_id": "filter_1_ans",
          "locked": false,
          "schema_version": 3,
          "solution": true,
          "task": false
        },
        "id": "UwvrviIE6X2w"
      },
      "outputs": [],
      "source": [
        "def filter_1():\n",
        "    \"\"\"Write a Pandas program to display students names, where number of attempts \n",
        "    in the examination is greater than 2 and score less than 80.\"\"\"\n",
        "    \n",
        "    b=df[(df.attempts > 2) & (df.score < 80)]\n",
        "    c = list (b.name)\n",
        "    print (c)\n",
        "    return c \n",
        "    raise NotImplementedError()"
      ]
    },
    {
      "cell_type": "code",
      "execution_count": 14,
      "metadata": {
        "deletable": false,
        "editable": false,
        "nbgrader": {
          "cell_type": "code",
          "checksum": "632927fdb6e4d86741cfc3d8c5d246ed",
          "grade": true,
          "grade_id": "filter_1_test",
          "locked": true,
          "points": 1,
          "schema_version": 3,
          "solution": false,
          "task": false
        },
        "colab": {
          "base_uri": "https://localhost:8080/"
        },
        "id": "WSZxS8N26X2w",
        "outputId": "d6b068d7-dfa6-4961-8779-55e3a35aee01"
      },
      "outputs": [
        {
          "output_type": "stream",
          "name": "stdout",
          "text": [
            "['Jo']\n"
          ]
        }
      ],
      "source": [
        "\"\"\"Check your output\"\"\"\n",
        "assert filter_1() == ['Jo']"
      ]
    },
    {
      "cell_type": "markdown",
      "metadata": {
        "id": "cDD-wfiO6X2w"
      },
      "source": [
        "## Question 5\n",
        "\n",
        "Write a Pandas program to display the average score. `Hint`: Please replace `NaN` values with `0` before calcualting average. "
      ]
    },
    {
      "cell_type": "code",
      "execution_count": 15,
      "metadata": {
        "deletable": false,
        "nbgrader": {
          "cell_type": "code",
          "checksum": "4bfeab64b5a75bc462c9c752772392fe",
          "grade": false,
          "grade_id": "score_ans",
          "locked": false,
          "schema_version": 3,
          "solution": true,
          "task": false
        },
        "id": "p2jKX3bQ6X2w"
      },
      "outputs": [],
      "source": [
        "import itertools\n",
        "def score():\n",
        "    \"\"\"Write a Python program to calculate average score and replace NaN values by 0\"\"\"\n",
        "   \n",
        "    df['score']=df['score'].replace(np.nan,0)\n",
        "    a = df['score'].mean()\n",
        "    print (a)\n",
        "    return a\n",
        "    \n",
        "    \n",
        "    raise NotImplementedError()"
      ]
    },
    {
      "cell_type": "code",
      "execution_count": 16,
      "metadata": {
        "deletable": false,
        "editable": false,
        "nbgrader": {
          "cell_type": "code",
          "checksum": "56b75c407f29411625f44176344ebb3a",
          "grade": true,
          "grade_id": "score_test",
          "locked": true,
          "points": 1,
          "schema_version": 3,
          "solution": false,
          "task": false
        },
        "colab": {
          "base_uri": "https://localhost:8080/"
        },
        "id": "CjmDvHaG6X2w",
        "outputId": "1e50dd1d-e9c1-4d1e-b083-64005f0b6905"
      },
      "outputs": [
        {
          "output_type": "stream",
          "name": "stdout",
          "text": [
            "55.25\n"
          ]
        }
      ],
      "source": [
        "\"\"\"Check your output\"\"\"\n",
        "assert score() == 55.250000"
      ]
    },
    {
      "cell_type": "markdown",
      "metadata": {
        "id": "Pq6WkAuH6X2w"
      },
      "source": [
        "---\n",
        "## Question 6:\n",
        "\n",
        "\n",
        "Write a function to calculate the `mean` and `standard deviation` of the examination `attempts`. `Hint`: You can use NumPy aggregate functions and return as a values. Create a list and append value to it and return the output."
      ]
    },
    {
      "cell_type": "code",
      "execution_count": 17,
      "metadata": {
        "deletable": false,
        "nbgrader": {
          "cell_type": "code",
          "checksum": "a658c2020824dbf3a48058b1160431a3",
          "grade": false,
          "grade_id": "stats_ans",
          "locked": false,
          "schema_version": 3,
          "solution": true,
          "task": false
        },
        "id": "qEOM8ixp6X2x"
      },
      "outputs": [],
      "source": [
        "def stats():\n",
        "    \"\"\"Write a Pandas program to calculate `mean` and `standard deviation` of the examination\n",
        "    attempts by the students.\"\"\"\n",
        "    \n",
        "    lst=[]\n",
        "    a = df['attempts'].mean()\n",
        "    b = df['attempts'].std()\n",
        "    out = lst + [a,b]\n",
        "    return out\n",
        "    raise NotImplementedError()"
      ]
    },
    {
      "cell_type": "code",
      "execution_count": 18,
      "metadata": {
        "deletable": false,
        "editable": false,
        "nbgrader": {
          "cell_type": "code",
          "checksum": "a3f21f0e86babfc209bb047557e93f74",
          "grade": true,
          "grade_id": "stats_test",
          "locked": true,
          "points": 1,
          "schema_version": 3,
          "solution": false,
          "task": false
        },
        "colab": {
          "base_uri": "https://localhost:8080/"
        },
        "id": "22hqQ5u36X2x",
        "outputId": "123d641b-21a0-4463-dd67-63e73d87c124"
      },
      "outputs": [
        {
          "output_type": "execute_result",
          "data": {
            "text/plain": [
              "True"
            ]
          },
          "metadata": {},
          "execution_count": 18
        }
      ],
      "source": [
        "\"\"\"Check your output\"\"\"\n",
        "# Test case\n",
        "output = np.array([1.9, 0.8755950357709131])\n",
        "np.allclose(stats(), output)\n"
      ]
    },
    {
      "cell_type": "code",
      "source": [
        ""
      ],
      "metadata": {
        "id": "lvHbHOPPEr9I"
      },
      "execution_count": 18,
      "outputs": []
    }
  ],
  "metadata": {
    "kernelspec": {
      "display_name": "Python 3",
      "language": "python",
      "name": "python3"
    },
    "language_info": {
      "codemirror_mode": {
        "name": "ipython",
        "version": 3
      },
      "file_extension": ".py",
      "mimetype": "text/x-python",
      "name": "python",
      "nbconvert_exporter": "python",
      "pygments_lexer": "ipython3",
      "version": "3.7.10"
    },
    "colab": {
      "name": "problem1.ipynb",
      "provenance": [],
      "include_colab_link": true
    }
  },
  "nbformat": 4,
  "nbformat_minor": 0
}